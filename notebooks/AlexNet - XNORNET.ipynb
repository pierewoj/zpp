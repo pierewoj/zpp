{
 "cells": [
  {
   "cell_type": "markdown",
   "metadata": {},
   "source": [
    "## Alexnet implementation in Tensorflow\n",
    "source: https://github.com/allenai/XNOR-Net"
   ]
  },
  {
   "cell_type": "code",
   "execution_count": 6,
   "metadata": {
    "collapsed": false
   },
   "outputs": [],
   "source": [
    "import tensorflow as tf\n",
    "import numpy as np\n",
    "\n",
    "def weight_variable(shape):\n",
    "  initial = tf.truncated_normal(shape, stddev=0.1)\n",
    "  return tf.Variable(initial)\n",
    "\n",
    "def bias_variable(shape):\n",
    "  initial = tf.constant(0.1, shape=shape)\n",
    "  return tf.Variable(initial)\n",
    "\n",
    "x = tf.placeholder(tf.float32, [None, 224*224*3])\n",
    "x_image = tf.reshape(x, [-1,224,224,3])\n",
    "\n",
    "def conv2d(x, W, b, strides=[1,1,1,1], padding=[[0,0],[0,0],[0,0],[0,0]]):\n",
    "    x_padded = tf.pad(x, padding, 'CONSTANT')\n",
    "    h_conv = tf.nn.conv2d(x_padded, W, strides, 'VALID') + b\n",
    "    normed = tf.contrib.layers.batch_norm(h_conv, epsilon=1e-3)\n",
    "    return tf.nn.relu(normed)\n",
    "\n",
    "def max_pool(x, ksize, strides):\n",
    "    return tf.nn.max_pool(x, ksize=ksize, strides=strides, padding='VALID')\n",
    "\n",
    "W_conv1 = weight_variable([11, 11, 3, 96])\n",
    "b_conv1 = bias_variable([96])\n",
    "h_conv1 = conv2d(x_image, W_conv1, b_conv1, [1, 4, 4, 1], [[0,0],[2,2],[2,2],[0,0]])\n",
    "h_pool1 = max_pool(h_conv1, [1,3,3,1], [1,2,2,1])\n",
    "\n",
    "W_conv2 = weight_variable([5, 5, 96, 256])\n",
    "b_conv2 = bias_variable([256])\n",
    "h_conv2 = conv2d(h_pool1, W_conv2, b_conv2, [1, 1, 1, 1], [[0,0],[2,2],[2,2],[0,0]])\n",
    "h_pool2 = max_pool(h_conv2, [1,3,3,1], [1,2,2,1])\n",
    "\n",
    "W_conv3 = weight_variable([3, 3, 256, 384])\n",
    "b_conv3 = bias_variable([384])\n",
    "h_conv3 = conv2d(h_pool2, W_conv3, b_conv3, [1, 1, 1, 1], [[0,0],[1,1],[1,1],[0,0]])\n",
    "\n",
    "W_conv4 = weight_variable([3, 3, 384, 384])\n",
    "b_conv4 = bias_variable([384])\n",
    "h_conv4 = conv2d(h_conv3, W_conv4, b_conv4, [1, 1, 1, 1], [[0,0],[1,1],[1,1],[0,0]])\n",
    "\n",
    "W_conv5 = weight_variable([3, 3, 384, 256])\n",
    "b_conv5 = bias_variable([256])\n",
    "h_conv5 = conv2d(h_conv4, W_conv5, b_conv5, [1, 1, 1, 1], [[0,0],[1,1],[1,1],[0,0]])\n",
    "h_pool3 = max_pool(h_conv5, [1,3,3,1], [1,2,2,1])\n",
    "\n",
    "prob = tf.placeholder(tf.float32)\n",
    "h_drop1 = tf.nn.dropout(h_pool3, prob)\n",
    "\n",
    "W_conv6 = weight_variable([6, 6, 256, 4096])\n",
    "b_conv6 = bias_variable([4096])\n",
    "h_conv6 = conv2d(h_drop1, W_conv6, b_conv6, [1, 1, 1, 1])\n",
    "\n",
    "h_drop2 = tf.nn.dropout(h_conv6, prob)\n",
    "\n",
    "W_conv7 = weight_variable([1, 1, 4096, 4096])\n",
    "b_conv7 = bias_variable([4096])\n",
    "h_conv7 = conv2d(h_drop2, W_conv7, b_conv7)\n",
    "\n",
    "nClasses = 1000\n",
    "W_conv8 = weight_variable([1, 1, 4096, nClasses])\n",
    "b_conv8 = bias_variable([nClasses])\n",
    "y = conv2d(h_conv7, W_conv8, b_conv8)[:,0,0,:]\n",
    "\n",
    "y_ = tf.placeholder(tf.float32, [None, nClasses])\n",
    "\n",
    "cross_entropy = tf.reduce_mean(tf.nn.softmax_cross_entropy_with_logits(logits=y, labels=y_))\n",
    "train_step = tf.train.AdamOptimizer(1e-1, beta1=0.01).minimize(cross_entropy)"
   ]
  },
  {
   "cell_type": "code",
   "execution_count": 5,
   "metadata": {
    "collapsed": false
   },
   "outputs": [
    {
     "name": "stdout",
     "output_type": "stream",
     "text": [
      "6.90776\n"
     ]
    }
   ],
   "source": [
    "sess = tf.Session()\n",
    "sess.as_default()\n",
    "sess.run(tf.global_variables_initializer())\n",
    "numbers = np.ones(224*224*3).reshape(1,224*224*3)\n",
    "ys = np.zeros((1,1000))\n",
    "ys[0][2] = 1\n",
    "result = cross_entropy.eval(session=sess, feed_dict={x: numbers, prob: 0.5, y_: ys})\n",
    "print(result)"
   ]
  },
  {
   "cell_type": "code",
   "execution_count": null,
   "metadata": {
    "collapsed": false
   },
   "outputs": [],
   "source": []
  },
  {
   "cell_type": "code",
   "execution_count": null,
   "metadata": {
    "collapsed": true
   },
   "outputs": [],
   "source": []
  }
 ],
 "metadata": {
  "kernelspec": {
   "display_name": "Python 3",
   "language": "python",
   "name": "python3"
  },
  "language_info": {
   "codemirror_mode": {
    "name": "ipython",
    "version": 3
   },
   "file_extension": ".py",
   "mimetype": "text/x-python",
   "name": "python",
   "nbconvert_exporter": "python",
   "pygments_lexer": "ipython3",
   "version": "3.5.2"
  }
 },
 "nbformat": 4,
 "nbformat_minor": 1
}

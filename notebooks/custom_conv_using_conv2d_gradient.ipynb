{
 "cells": [
  {
   "cell_type": "code",
   "execution_count": 21,
   "metadata": {
    "collapsed": false
   },
   "outputs": [
    {
     "name": "stdout",
     "output_type": "stream",
     "text": [
      "[[[[ 1.70000005]\n",
      "   [ 1.60000002]]\n",
      "\n",
      "  [[ 1.9000001 ]\n",
      "   [ 2.5999999 ]]]]\n",
      "\n",
      "\n",
      "[[[[ 1.69999993]\n",
      "   [ 1.5999999 ]]\n",
      "\n",
      "  [[ 1.9000001 ]\n",
      "   [ 2.5999999 ]]]]\n"
     ]
    }
   ],
   "source": [
    "import tensorflow as tf\n",
    "from tensorflow.python.framework import ops\n",
    "import numpy as np\n",
    "from scipy import signal\n",
    "from tensorflow.python.ops import nn_ops, array_ops\n",
    "\n",
    "def conv2d(x, W):\n",
    "  return tf.nn.conv2d(x, W, strides=[1, 1, 1, 1], padding='VALID')\n",
    "\n",
    "#Wraper podstawiajacy \n",
    "def py_func(func, inp, Tout, stateful=True, name=None):\n",
    "    \n",
    "    # Nowa nazwa, żeby móc modyfikować nasz gradient\n",
    "    rnd_name = 'PyFuncGrad' + str(np.random.randint(0, 1E+8))\n",
    "    tf.RegisterGradient(rnd_name)(_BinGrad)\n",
    "    \n",
    "    #Podstawienie gradientu\n",
    "    g = tf.get_default_graph()\n",
    "    with g.gradient_override_map({\"PyFunc\": rnd_name}):\n",
    "        return tf.py_func(func, inp, Tout, stateful=stateful, name=name)\n",
    "\n",
    "#Wrapper na wrappera\n",
    "def custom_conv2d(x, W, strides=[1, 1, 1, 1], padding='VALID', name='MySquare'):\n",
    "    return py_func(conv, [x,W], [tf.float32])[0]\n",
    "    \n",
    "#Skopiowany gradient z conv2d\n",
    "def _BinGrad(op, grad):\n",
    "    return [nn_ops.conv2d_backprop_input(\n",
    "    array_ops.shape(op.inputs[0]), op.inputs[1], grad,(1,1,1,1),\n",
    "    'VALID', False, 'NHWC'),\n",
    "      nn_ops.conv2d_backprop_filter(op.inputs[0],\n",
    "                                    array_ops.shape(op.inputs[1]), grad,\n",
    "                                    (1,1,1,1),\n",
    "                                    'VALID',\n",
    "                                    False,\n",
    "                                    'NHWC')]\n",
    "\n",
    "#Nasza operacja\n",
    "def conv(x, W, strides=[1, 1, 1, 1], padding='VALID'):\n",
    "    x_height = x.shape[1]\n",
    "    x_width = x.shape[2]\n",
    "    W_height = W.shape[0]\n",
    "    W_width = W.shape[1]\n",
    "    filters = W.shape[3]\n",
    "    inp = x[0,0:x_height,0:x_width,0]\n",
    "    fil = np.rot90(W[0:W_height,0:W_width,0,0], 2)\n",
    "    result = signal.convolve2d(inp, fil, 'valid')\n",
    "    return result.reshape((1,2,2,1))\n",
    "    \n",
    "\n",
    "x = tf.placeholder(tf.float32, [None, 9])\n",
    "x_reshaped = tf.reshape(x, [-1,3,3,1])\n",
    "w = np.zeros([2,2,1,1])\n",
    "w[0:2,0:2,0,0] = np.vstack(([0.1,0.2],[1,0.3]))\n",
    "W_conv1 = tf.Variable(tf.cast(w,dtype=tf.float32))\n",
    "\n",
    "sess = tf.Session()\n",
    "sess.as_default()\n",
    "sess.run(tf.global_variables_initializer())\n",
    "\n",
    "numbers = np.reshape(np.array([2,1,1,1,1,1,1,2,1], dtype=np.float32),(1,9))\n",
    "result = custom_conv2d(x_reshaped, W_conv1)\n",
    "result_n = conv2d(x_reshaped, W_conv1)\n",
    "result_conv = result.eval(session=sess, feed_dict={x: numbers})\n",
    "result_norm = result_n.eval(session=sess, feed_dict={x: numbers})\n",
    "print(result_conv)\n",
    "print('\\n')\n",
    "print(result_norm)\n",
    "\n"
   ]
  },
  {
   "cell_type": "code",
   "execution_count": 20,
   "metadata": {
    "collapsed": false
   },
   "outputs": [
    {
     "name": "stdout",
     "output_type": "stream",
     "text": [
      "[[[[ 5.]]\n",
      "\n",
      "  [[ 4.]]]\n",
      "\n",
      "\n",
      " [[[ 5.]]\n",
      "\n",
      "  [[ 5.]]]]\n",
      "\n",
      "\n",
      "[[[[ 5.]]\n",
      "\n",
      "  [[ 4.]]]\n",
      "\n",
      "\n",
      " [[[ 5.]]\n",
      "\n",
      "  [[ 5.]]]]\n"
     ]
    }
   ],
   "source": [
    "var_grad = tf.gradients(result, W_conv1)[0]\n",
    "var_grad_n = tf.gradients(result_n, W_conv1)[0]\n",
    "gradients = var_grad.eval(session=sess, feed_dict={x: np.reshape(numbers,(1,9))})\n",
    "gradients_n = var_grad_n.eval(session=sess, feed_dict={x: np.reshape(numbers,(1,9))})\n",
    "print(gradients)\n",
    "print('\\n')\n",
    "print(gradients_n)"
   ]
  },
  {
   "cell_type": "code",
   "execution_count": null,
   "metadata": {
    "collapsed": true
   },
   "outputs": [],
   "source": []
  }
 ],
 "metadata": {
  "kernelspec": {
   "display_name": "Python 3",
   "language": "python",
   "name": "python3"
  },
  "language_info": {
   "codemirror_mode": {
    "name": "ipython",
    "version": 3
   },
   "file_extension": ".py",
   "mimetype": "text/x-python",
   "name": "python",
   "nbconvert_exporter": "python",
   "pygments_lexer": "ipython3",
   "version": "3.5.2"
  }
 },
 "nbformat": 4,
 "nbformat_minor": 1
}

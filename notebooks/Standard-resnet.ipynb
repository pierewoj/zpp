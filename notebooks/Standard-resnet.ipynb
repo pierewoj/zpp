{
 "cells": [
  {
   "cell_type": "code",
   "execution_count": 12,
   "metadata": {
    "collapsed": true
   },
   "outputs": [],
   "source": [
    "from experiment import experiment\n",
    "import convolutions as c"
   ]
  },
  {
   "cell_type": "code",
   "execution_count": null,
   "metadata": {
    "collapsed": false
   },
   "outputs": [
    {
     "name": "stdout",
     "output_type": "stream",
     "text": [
      "Resnet 2-blocks, conv=conv2d, learning rate=0.01, rate=1.0\n",
      "\n",
      "End of epoch 05: err(train)=0.63 acc(train)=0.78, time(train)=25.17\n",
      "End of epoch 05: err(valid)=0.73 acc(valid)=0.75, time(valid)=2.24\n",
      "End of epoch 10: err(train)=0.38 acc(train)=0.87, time(train)=25.18\n",
      "End of epoch 10: err(valid)=0.67 acc(valid)=0.78, time(valid)=2.21\n",
      "End of epoch 15: err(train)=0.23 acc(train)=0.92, time(train)=25.17\n",
      "End of epoch 15: err(valid)=0.77 acc(valid)=0.78, time(valid)=2.22\n",
      "\n"
     ]
    }
   ],
   "source": [
    "experiment(num_blocks=2, conv=c.conv2d,learning_rate=0.01, rate=1.0, epochs=40, name=\"test\")"
   ]
  },
  {
   "cell_type": "code",
   "execution_count": 4,
   "metadata": {
    "collapsed": false
   },
   "outputs": [
    {
     "name": "stdout",
     "output_type": "stream",
     "text": [
      "Resnet 2-blocks, conv=conv2d, learning rate=0.01, rate=1.0\n",
      "\n",
      "End of epoch 05: err(train)=0.66 acc(train)=0.77, time(train)=25.27\n",
      "End of epoch 05: err(valid)=0.76 acc(valid)=0.73, time(valid)=2.25\n",
      "End of epoch 10: err(train)=0.40 acc(train)=0.86, time(train)=25.22\n",
      "End of epoch 10: err(valid)=0.67 acc(valid)=0.78, time(valid)=2.23\n",
      "\n"
     ]
    }
   ],
   "source": [
    "experiment(num_blocks=2, conv=c.conv2d,learning_rate=0.01, rate=1.0, epochs=10, name=\"test-conv2d\")"
   ]
  },
  {
   "cell_type": "code",
   "execution_count": null,
   "metadata": {
    "collapsed": false
   },
   "outputs": [
    {
     "name": "stdout",
     "output_type": "stream",
     "text": [
      "Resnet 2-blocks, conv=conv2d, learning rate=0.01, rate=1.0\n",
      "\n"
     ]
    }
   ],
   "source": [
    "import tensorflow as tf\n",
    "experiment(num_blocks=2, conv=tf.nn.conv2d,learning_rate=0.01, rate=1.0, epochs=10, name=\"test-conv2d-2d\")"
   ]
  },
  {
   "cell_type": "code",
   "execution_count": 7,
   "metadata": {
    "collapsed": false
   },
   "outputs": [
    {
     "name": "stdout",
     "output_type": "stream",
     "text": [
      "Resnet 1-blocks, conv=conv_bin_activ, learning rate=0.01, rate=1.0\n",
      "\n",
      "End of epoch 05: err(train)=1.84 acc(train)=0.33, time(train)=26.04\n",
      "End of epoch 05: err(valid)=1.83 acc(valid)=0.33, time(valid)=2.24\n",
      "End of epoch 10: err(train)=1.76 acc(train)=0.36, time(train)=26.05\n",
      "End of epoch 10: err(valid)=1.74 acc(valid)=0.38, time(valid)=2.22\n",
      "\n"
     ]
    }
   ],
   "source": [
    "experiment(num_blocks=1, conv=c.conv_bin_activ,learning_rate=0.01, rate=1.0, epochs=10, name=\"test-activ\")"
   ]
  },
  {
   "cell_type": "code",
   "execution_count": 8,
   "metadata": {
    "collapsed": false
   },
   "outputs": [
    {
     "name": "stdout",
     "output_type": "stream",
     "text": [
      "Resnet 1-blocks, conv=conv_bin_activ, learning rate=0.01, rate=1.0\n",
      "\n",
      "End of epoch 05: err(train)=1.78 acc(train)=0.35, time(train)=26.03\n",
      "End of epoch 05: err(valid)=1.74 acc(valid)=0.37, time(valid)=2.24\n",
      "End of epoch 10: err(train)=1.78 acc(train)=0.35, time(train)=26.04\n",
      "End of epoch 10: err(valid)=1.74 acc(valid)=0.37, time(valid)=2.22\n",
      "End of epoch 15: err(train)=1.84 acc(train)=0.33, time(train)=26.06\n",
      "End of epoch 15: err(valid)=2.31 acc(valid)=0.10, time(valid)=2.22\n",
      "End of epoch 20: err(train)=2.30 acc(train)=0.10, time(train)=26.07\n",
      "End of epoch 20: err(valid)=2.30 acc(valid)=0.10, time(valid)=2.22\n",
      "\n"
     ]
    }
   ],
   "source": [
    "experiment(num_blocks=1, conv=c.conv_bin_activ,learning_rate=0.01, rate=1.0, epochs=20, name=\"test-activ\")"
   ]
  },
  {
   "cell_type": "code",
   "execution_count": 6,
   "metadata": {
    "collapsed": false
   },
   "outputs": [
    {
     "name": "stdout",
     "output_type": "stream",
     "text": [
      "Resnet 2-blocks, conv=conv_bin_weights_vector, learning rate=0.01, rate=1.0\n",
      "\n",
      "End of epoch 05: err(train)=0.83 acc(train)=0.71, time(train)=28.69\n",
      "End of epoch 05: err(valid)=0.86 acc(valid)=0.70, time(valid)=2.48\n",
      "End of epoch 10: err(train)=0.63 acc(train)=0.78, time(train)=28.69\n",
      "End of epoch 10: err(valid)=0.69 acc(valid)=0.76, time(valid)=2.44\n",
      "\n"
     ]
    }
   ],
   "source": [
    "experiment(num_blocks=2, conv=c.conv_bin_weights_vector,learning_rate=0.01, rate=1.0, epochs=10, name=\"test-wector\")"
   ]
  },
  {
   "cell_type": "code",
   "execution_count": 7,
   "metadata": {
    "collapsed": false
   },
   "outputs": [
    {
     "name": "stdout",
     "output_type": "stream",
     "text": [
      "Resnet 2-blocks, conv=conv_bin_weights_scalar, learning rate=0.01, rate=1.0\n",
      "\n",
      "End of epoch 05: err(train)=0.83 acc(train)=0.70, time(train)=28.30\n",
      "End of epoch 05: err(valid)=0.86 acc(valid)=0.70, time(valid)=2.45\n",
      "End of epoch 10: err(train)=0.64 acc(train)=0.78, time(train)=28.29\n",
      "End of epoch 10: err(valid)=0.70 acc(valid)=0.76, time(valid)=2.43\n",
      "\n"
     ]
    }
   ],
   "source": [
    "experiment(num_blocks=2, conv=c.conv_bin_weights_scalar,learning_rate=0.01, rate=1.0, epochs=10, name=\"test-scalar\")"
   ]
  },
  {
   "cell_type": "code",
   "execution_count": null,
   "metadata": {
    "collapsed": false
   },
   "outputs": [
    {
     "name": "stdout",
     "output_type": "stream",
     "text": [
      "Resnet 2-blocks, conv=conv_bin_weights_scalar, learning rate=0.001, rate=1.0\n",
      "\n",
      "End of epoch 05: err(train)=1.35 acc(train)=0.51, time(train)=28.21\n",
      "End of epoch 05: err(valid)=1.33 acc(valid)=0.53, time(valid)=2.46\n",
      "End of epoch 10: err(train)=1.10 acc(train)=0.60, time(train)=28.21\n",
      "End of epoch 10: err(valid)=1.12 acc(valid)=0.60, time(valid)=2.42\n",
      "\n"
     ]
    }
   ],
   "source": [
    "experiment(num_blocks=2, conv=c.conv_bin_weights_scalar,learning_rate=0.001, rate=1.0, epochs=10, name=\"test-scalar\")"
   ]
  },
  {
   "cell_type": "code",
   "execution_count": 5,
   "metadata": {
    "collapsed": false
   },
   "outputs": [
    {
     "name": "stdout",
     "output_type": "stream",
     "text": [
      "Resnet 2-blocks, conv=conv_bin_weights_vector, learning rate=0.001, rate=1.0\n",
      "\n",
      "End of epoch 05: err(train)=1.34 acc(train)=0.52, time(train)=28.64\n",
      "End of epoch 05: err(valid)=1.31 acc(valid)=0.53, time(valid)=2.47\n",
      "End of epoch 10: err(train)=1.07 acc(train)=0.62, time(train)=28.65\n",
      "End of epoch 10: err(valid)=1.12 acc(valid)=0.61, time(valid)=2.45\n",
      "\n"
     ]
    }
   ],
   "source": [
    "experiment(num_blocks=2, conv=c.conv_bin_weights_vector,learning_rate=0.001, rate=1.0, epochs=10, name=\"test-vector\")"
   ]
  },
  {
   "cell_type": "code",
   "execution_count": null,
   "metadata": {
    "collapsed": false
   },
   "outputs": [
    {
     "name": "stdout",
     "output_type": "stream",
     "text": [
      "Resnet 18-blocks, conv=conv2d, learning rate=0.01, rate=1.0\n",
      "\n",
      "End of epoch 05: err(train)=0.52 acc(train)=0.82, time(train)=185.03\n",
      "End of epoch 05: err(valid)=0.65 acc(valid)=0.78, time(valid)=15.25\n",
      "End of epoch 10: err(train)=0.23 acc(train)=0.92, time(train)=184.72\n",
      "End of epoch 10: err(valid)=0.67 acc(valid)=0.80, time(valid)=15.05\n",
      "End of epoch 15: err(train)=0.09 acc(train)=0.97, time(train)=184.71\n",
      "End of epoch 15: err(valid)=0.79 acc(valid)=0.80, time(valid)=15.05\n",
      "End of epoch 20: err(train)=0.05 acc(train)=0.98, time(train)=184.72\n",
      "End of epoch 20: err(valid)=0.88 acc(valid)=0.80, time(valid)=15.05\n",
      "End of epoch 25: err(train)=0.03 acc(train)=0.99, time(train)=184.71\n",
      "End of epoch 25: err(valid)=0.91 acc(valid)=0.81, time(valid)=15.05\n",
      "End of epoch 30: err(train)=0.02 acc(train)=0.99, time(train)=184.68\n",
      "End of epoch 30: err(valid)=0.99 acc(valid)=0.81, time(valid)=15.05\n",
      "End of epoch 35: err(train)=0.03 acc(train)=0.99, time(train)=184.66\n",
      "End of epoch 35: err(valid)=1.01 acc(valid)=0.81, time(valid)=15.05\n",
      "End of epoch 40: err(train)=0.01 acc(train)=1.00, time(train)=184.64\n",
      "End of epoch 40: err(valid)=1.01 acc(valid)=0.82, time(valid)=15.04\n",
      "\n"
     ]
    }
   ],
   "source": [
    "experiment(num_blocks=18, conv=c.conv2d,learning_rate=0.01, rate=1.0, epochs=40, name=\"18normal\")"
   ]
  },
  {
   "cell_type": "code",
   "execution_count": null,
   "metadata": {
    "collapsed": false
   },
   "outputs": [
    {
     "name": "stdout",
     "output_type": "stream",
     "text": [
      "Resnet 18-blocks, conv=conv2d, learning rate=0.01, rate=1.0\n",
      "\n",
      "End of epoch 05: err(train)=0.51 acc(train)=0.83, time(train)=184.96\n",
      "End of epoch 05: err(valid)=0.66 acc(valid)=0.77, time(valid)=15.25\n",
      "End of epoch 10: err(train)=0.22 acc(train)=0.92, time(train)=184.93\n",
      "End of epoch 10: err(valid)=0.69 acc(valid)=0.79, time(valid)=15.08\n",
      "End of epoch 15: err(train)=0.10 acc(train)=0.97, time(train)=184.97\n",
      "End of epoch 15: err(valid)=0.75 acc(valid)=0.81, time(valid)=15.09\n",
      "End of epoch 20: err(train)=0.05 acc(train)=0.98, time(train)=185.03\n",
      "End of epoch 20: err(valid)=0.87 acc(valid)=0.81, time(valid)=15.09\n",
      "End of epoch 25: err(train)=0.03 acc(train)=0.99, time(train)=185.08\n",
      "End of epoch 25: err(valid)=0.90 acc(valid)=0.81, time(valid)=15.09\n",
      "End of epoch 30: err(train)=0.02 acc(train)=0.99, time(train)=185.05\n",
      "End of epoch 30: err(valid)=0.95 acc(valid)=0.82, time(valid)=15.09\n",
      "End of epoch 35: err(train)=0.01 acc(train)=1.00, time(train)=185.05\n",
      "End of epoch 35: err(valid)=1.00 acc(valid)=0.81, time(valid)=15.09\n",
      "End of epoch 40: err(train)=0.02 acc(train)=0.99, time(train)=185.04\n",
      "End of epoch 40: err(valid)=1.02 acc(valid)=0.82, time(valid)=15.08\n",
      "\n"
     ]
    }
   ],
   "source": [
    "experiment(num_blocks=18, conv=c.conv2d,learning_rate=0.01, rate=1.0, epochs=40, name=\"18normal\")"
   ]
  },
  {
   "cell_type": "code",
   "execution_count": null,
   "metadata": {
    "collapsed": true
   },
   "outputs": [],
   "source": [
    "experiment(num_blocks=18, conv=c.conv2d,learning_rate=0.01, rate=1.0, epochs=40, name=\"18normal\")"
   ]
  }
 ],
 "metadata": {
  "kernelspec": {
   "display_name": "tensorflow-gpu-0.12",
   "language": "python",
   "name": "tensorflow-gpu-0.12"
  },
  "language_info": {
   "codemirror_mode": {
    "name": "ipython",
    "version": 2
   },
   "file_extension": ".py",
   "mimetype": "text/x-python",
   "name": "python",
   "nbconvert_exporter": "python",
   "pygments_lexer": "ipython2",
   "version": "2.7.12"
  }
 },
 "nbformat": 4,
 "nbformat_minor": 2
}

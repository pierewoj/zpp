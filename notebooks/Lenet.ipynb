{
 "cells": [
  {
   "cell_type": "code",
   "execution_count": null,
   "metadata": {
    "collapsed": false,
    "deletable": true,
    "editable": true
   },
   "outputs": [],
   "source": [
    "import tensorflow as tf\n",
    "from tensorflow.examples.tutorials.mnist import input_data\n",
    "from lenet import Lenet\n",
    "from dataset import chunks\n",
    "from datetime import datetime\n",
    "import convolution as c\n",
    "import numpy as np\n",
    "\n",
    "iterations = 4000\n",
    "batch_size = 50\n",
    "display_step = 100 # summary save step\n",
    "show_step = 10*display_step # print accuracy step\n",
    "lr = 1e-4\n",
    "\n",
    "mnist = input_data.read_data_sets('/tmp/dataset', one_hot=True)\n",
    "test = list(chunks(mnist.test.images, 50)), list(chunks(mnist.test.labels, 50))\n",
    "path = '/tmp/mnist/'\n",
    "writer = tf.summary.FileWriter(path)"
   ]
  },
  {
   "cell_type": "code",
   "execution_count": 2,
   "metadata": {
    "collapsed": false,
    "deletable": true,
    "editable": true
   },
   "outputs": [],
   "source": [
    "def train(sess, data, train_step, batch, prob, lr):\n",
    "    train_step.run(session=sess, feed_dict={data[0]: batch[0], \n",
    "                                            data[1]: batch[1], \n",
    "                                            data[2]: prob, \n",
    "                                            data[3]: lr})\n",
    "    \n",
    "def show_acc(sess, data, accuracy, iteration):\n",
    "    acc = []\n",
    "    for i in range(len(test[0])):\n",
    "        acc.append(accuracy.eval(session=sess, feed_dict={data[0]: test[0][i],\n",
    "                                                          data[1]: test[1][i], \n",
    "                                                          data[2]: 1}))\n",
    "    acc = np.mean(acc)\n",
    "    if iteration % show_step == 0:\n",
    "        print(\"step: {} accuracy: {:.4f}\".format(iteration, acc))\n",
    "    return acc\n",
    "    \n",
    "def save_summaries(sess, data, train_summary, test_summary, writer, batch, acc, iteration):\n",
    "        s = train_summary.eval(session=sess, feed_dict={data[0]: batch[0],\n",
    "                                                        data[1]: batch[1],\n",
    "                                                        data[2]: 1})\n",
    "        writer.add_summary(s, iteration)\n",
    "        s = test_summary.eval(session=sess, feed_dict={data[4]: acc})\n",
    "        writer.add_summary(s, iteration)\n",
    "        writer.flush()\n",
    "        \n",
    "def run(scope, no, rate=1, conv=None):\n",
    "    \n",
    "    print(\"Running model: {} FM Rate: {}\".format(scope, rate))\n",
    "    \n",
    "    x = tf.placeholder(tf.float32, [None, 784])\n",
    "    keep_prob = tf.placeholder(tf.float32)\n",
    "    learning_rate = tf.placeholder(tf.float32)\n",
    "    labels = tf.placeholder(tf.float32, [None, 10])\n",
    "    \n",
    "    scalar = tf.placeholder(tf.float32) # for summary\n",
    "    \n",
    "    data = [x, labels, keep_prob, learning_rate, scalar]\n",
    "\n",
    "    if conv is None:\n",
    "        net = Lenet(x, keep_prob, device='/gpu:0', rate=rate)\n",
    "    else:\n",
    "        net = Lenet(x, keep_prob, device='/gpu:0', conv=conv, rate=rate)\n",
    "        \n",
    "    predict = net.y\n",
    "\n",
    "    cross_entropy = tf.reduce_mean(tf.nn.softmax_cross_entropy_with_logits(logits=predict, labels=labels))\n",
    "    train_step = tf.train.AdamOptimizer(learning_rate).minimize(cross_entropy)\n",
    "    correct_prediction = tf.equal(tf.argmax(predict,1), tf.argmax(labels,1))\n",
    "    accuracy = tf.reduce_mean(tf.cast(correct_prediction, tf.float32))\n",
    "    \n",
    "\n",
    "    with tf.name_scope(scope):\n",
    "        with tf.name_scope(str(rate)):\n",
    "            with tf.name_scope(str(no)):\n",
    "                with tf.name_scope(\"test\"):\n",
    "                    test_summary = tf.summary.scalar('accuracy', scalar)\n",
    "\n",
    "                with tf.name_scope(\"train\"):\n",
    "                    train1 = tf.summary.scalar('accuracy', accuracy)\n",
    "                    train2 = tf.summary.scalar('loss', cross_entropy)\n",
    "                    train_summary = tf.summary.merge([train1, train2])\n",
    "\n",
    "    config = tf.ConfigProto()\n",
    "    config.gpu_options.allow_growth=True\n",
    "    sess = tf.Session(config=config)\n",
    "    sess.as_default()\n",
    "    sess.run(tf.global_variables_initializer())\n",
    "    \n",
    "    for iteration in range(iterations):\n",
    "        batch = mnist.train.next_batch(batch_size)\n",
    "        if iteration % display_step == 0:\n",
    "            acc = show_acc(sess, data, accuracy, iteration)\n",
    "            save_summaries(sess, data, train_summary, test_summary, writer, batch, acc, iteration)\n",
    "        train(sess, data, train_step, batch, 0.5, lr)\n",
    "\n",
    "    acc = show_acc(sess, data, accuracy, iterations)\n",
    "    save_summaries(sess, data, train_summary, test_summary, writer, batch, acc, iterations)\n",
    "\n",
    "    sess.close()\n"
   ]
  },
  {
   "cell_type": "code",
   "execution_count": null,
   "metadata": {
    "collapsed": false,
    "deletable": true,
    "editable": true,
    "scrolled": false
   },
   "outputs": [],
   "source": []
  },
  {
   "cell_type": "code",
   "execution_count": null,
   "metadata": {
    "collapsed": false,
    "deletable": true,
    "editable": true,
    "scrolled": false
   },
   "outputs": [],
   "source": []
  },
  {
   "cell_type": "code",
   "execution_count": null,
   "metadata": {
    "collapsed": true,
    "deletable": true,
    "editable": true
   },
   "outputs": [],
   "source": []
  }
 ],
 "metadata": {
  "kernelspec": {
   "display_name": "Python 3",
   "language": "python",
   "name": "python3"
  },
  "language_info": {
   "codemirror_mode": {
    "name": "ipython",
    "version": 3
   },
   "file_extension": ".py",
   "mimetype": "text/x-python",
   "name": "python",
   "nbconvert_exporter": "python",
   "pygments_lexer": "ipython3",
   "version": "3.5.2"
  }
 },
 "nbformat": 4,
 "nbformat_minor": 2
}
